{
 "cells": [
  {
   "cell_type": "code",
   "execution_count": 1,
   "metadata": {
    "collapsed": true
   },
   "outputs": [],
   "source": [
    "import numpy as np\n",
    "import itertools"
   ]
  },
  {
   "cell_type": "code",
   "execution_count": 134,
   "metadata": {},
   "outputs": [],
   "source": [
    "board=np.array([[0,0,0,0],[0,0,0,0],[0,0,0,0], [0,0,0,0]])\n",
    "element1 = np.array([[3,3],[3,0]])\n",
    "element2 = np.array([[0,1],[1,1]])\n",
    "element3 = np.array([[2,2,2]])\n",
    "element5 = np.array([[7],[7],[7]])\n",
    "element4 = np.array([[1],[1],[1],[1]])\n",
    "carre = np.array([[5,5],[5,5]])\n",
    "L = np.array([[8,8,8],[0,0,8],[0,0,8]])\n",
    "elements= [element4, element5, L, carre]"
   ]
  },
  {
   "cell_type": "code",
   "execution_count": 136,
   "metadata": {},
   "outputs": [
    {
     "name": "stdout",
     "output_type": "stream",
     "text": [
      "[[0 0 0 0]\n",
      " [0 0 0 0]\n",
      " [0 0 0 0]\n",
      " [0 0 0 0]]\n",
      "[[1]\n",
      " [1]\n",
      " [1]\n",
      " [1]] \n",
      "\n",
      "[[7]\n",
      " [7]\n",
      " [7]] \n",
      "\n",
      "[[8 8 8]\n",
      " [0 0 8]\n",
      " [0 0 8]] \n",
      "\n",
      "[[5 5]\n",
      " [5 5]] \n",
      "\n"
     ]
    }
   ],
   "source": [
    "print board\n",
    "for element in elements:\n",
    "        print element, \"\\n\""
   ]
  },
  {
   "cell_type": "code",
   "execution_count": 126,
   "metadata": {},
   "outputs": [],
   "source": [
    "def drawOnBoard(board, element, x, y):\n",
    "    for i in range(element.shape[0]):\n",
    "        for j in range(element.shape[1]):\n",
    "            if (board[i+x][j+y] == 0 and element[i][j] != 0):\n",
    "                board[i+x][j+y] = element[i][j]\n",
    "    return board\n",
    "\n",
    "def hasWin(board):\n",
    "    for i in range(board.shape[1]):\n",
    "        for j in range(board.shape[0]):\n",
    "            if(board[i][j] == 0):\n",
    "                return False\n",
    "    return True"
   ]
  },
  {
   "cell_type": "code",
   "execution_count": 139,
   "metadata": {},
   "outputs": [],
   "source": [
    "def fitElement(board, element):\n",
    "    elementHasFitted = False\n",
    "    if (elementHasFitted == False):\n",
    "        for x in range(board.shape[0] - element.shape[0] +1):\n",
    "            for y in range(board.shape[1] - element.shape[1] +1):\n",
    "                elementCurrentlyFitting = 0\n",
    "                for i in range(element.shape[0]):\n",
    "                    for j in range(element.shape[1]):\n",
    "                        if(board[x+i][j+y] == 0 or element[i][j] == 0):\n",
    "                            elementCurrentlyFitting = elementCurrentlyFitting+1\n",
    "                if(elementCurrentlyFitting == element.shape[1]*element.shape[0]):\n",
    "                    return x,y\n",
    "        return False\n",
    "                  \n",
    "        \n",
    "def fitBoard(board, elements):\n",
    "    board=np.array([[0,0,0,0],[0,0,0,0],[0,0,0,0], [0,0,0,0]])\n",
    "    for element in elements:\n",
    "        coordonates = fitElement(board, element)\n",
    "        if coordonates != False:\n",
    "            board = drawOnBoard(board, element, coordonates[0], coordonates[1])\n",
    "            elementFitted = True\n",
    "        if hasWin(board):\n",
    "            return True, board \n",
    "    return False, board\n",
    "\n",
    "    \n",
    "def orderElements(board, elements):\n",
    "    for elements in list(itertools.permutations(elements)):\n",
    "        solution = fitBoard(board,elements)\n",
    "        if solution[0] == True:\n",
    "            return True, solution, len(list(itertools.permutations(elements)))\n",
    "    return False, board"
   ]
  },
  {
   "cell_type": "code",
   "execution_count": 140,
   "metadata": {},
   "outputs": [],
   "source": [
    " def findEveryOrders(elements):\n",
    "    array = []\n",
    "    newElements = []\n",
    "    for element in elements:\n",
    "        array.append(element)\n",
    "        array.append(np.rot90(element))\n",
    "        array.append(np.rot90(np.rot90(element)))\n",
    "        array.append(np.rot90(np.rot90(np.rot90(element))))\n",
    "        newElements.append(array)\n",
    "        array = []\n",
    "    return list(itertools.product(*newElements))\n",
    "    \n",
    "def findSolutionWithRotation(board, elements):\n",
    "    ElementsOrderedWithRotation = findEveryOrders(elements)\n",
    "    for elements in ElementsOrderedWithRotation:\n",
    "        solution = orderElements(board, elements)\n",
    "        if solution[0] == True:\n",
    "            return solution\n",
    "        \n",
    "\n",
    "def findSolutionWithNoRotation(board, elements):\n",
    "    solution = orderElements(board, elements)\n",
    "    return solution\n"
   ]
  },
  {
   "cell_type": "code",
   "execution_count": 138,
   "metadata": {
    "scrolled": true
   },
   "outputs": [
    {
     "data": {
      "text/plain": [
       "(True, (True, array([[1, 7, 7, 7],\n",
       "         [1, 8, 8, 8],\n",
       "         [1, 5, 5, 8],\n",
       "         [1, 5, 5, 8]])), 24)"
      ]
     },
     "execution_count": 138,
     "metadata": {},
     "output_type": "execute_result"
    }
   ],
   "source": [
    "findSolutionWithRotation(board, elements)"
   ]
  },
  {
   "cell_type": "code",
   "execution_count": 137,
   "metadata": {},
   "outputs": [
    {
     "data": {
      "text/plain": [
       "(False, array([[0, 0, 0, 0],\n",
       "        [0, 0, 0, 0],\n",
       "        [0, 0, 0, 0],\n",
       "        [0, 0, 0, 0]]))"
      ]
     },
     "execution_count": 137,
     "metadata": {},
     "output_type": "execute_result"
    }
   ],
   "source": [
    "findSolutionWithNoRotation(board, elements)"
   ]
  },
  {
   "cell_type": "code",
   "execution_count": null,
   "metadata": {
    "collapsed": true
   },
   "outputs": [],
   "source": []
  }
 ],
 "metadata": {
  "kernelspec": {
   "display_name": "Python 2",
   "language": "python",
   "name": "python2"
  },
  "language_info": {
   "codemirror_mode": {
    "name": "ipython",
    "version": 2
   },
   "file_extension": ".py",
   "mimetype": "text/x-python",
   "name": "python",
   "nbconvert_exporter": "python",
   "pygments_lexer": "ipython2",
   "version": "2.7.14"
  }
 },
 "nbformat": 4,
 "nbformat_minor": 2
}
